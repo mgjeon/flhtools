{
 "cells": [
  {
   "cell_type": "code",
   "execution_count": 1,
   "metadata": {},
   "outputs": [],
   "source": [
    "import numpy as np\n",
    "from scipy.io import netcdf_file\n",
    "from scipy.interpolate import RegularGridInterpolator as rgi\n",
    "import scipy.fftpack as fp"
   ]
  },
  {
   "cell_type": "code",
   "execution_count": 2,
   "metadata": {},
   "outputs": [],
   "source": [
    "fh = netcdf_file('bhesse.nc', 'r', mmap=False)\n",
    "x1 = fh.variables['x'][:].astype(np.float32)\n",
    "y1 = fh.variables['y'][:].astype(np.float32)\n",
    "z1 = fh.variables['z'][:].astype(np.float32)\n",
    "bx1 = np.swapaxes(fh.variables['bx'][:],0,2).astype(np.float32)\n",
    "by1 = np.swapaxes(fh.variables['by'][:],0,2).astype(np.float32)\n",
    "bz1 = np.swapaxes(fh.variables['bz'][:],0,2).astype(np.float32)\n",
    "fh.close()\n",
    "\n",
    "dx = np.mean(x1[1:] - x1[:-1])\n",
    "dy = np.mean(y1[1:] - y1[:-1])\n",
    "dz = np.mean(z1[1:] - z1[:-1])\n",
    "nx = np.size(x1, 0)\n",
    "ny = np.size(y1, 0)\n",
    "nz = np.size(z1, 0)\n",
    "\n",
    "bxs = rgi((x1, y1, z1), bx1, bounds_error=False, fill_value=0)\n",
    "bys = rgi((x1, y1, z1), by1, bounds_error=False, fill_value=0)\n",
    "bzs = rgi((x1, y1, z1), bz1, bounds_error=False, fill_value=0)"
   ]
  },
  {
   "cell_type": "code",
   "execution_count": 3,
   "metadata": {},
   "outputs": [
    {
     "data": {
      "text/plain": [
       "(64,)"
      ]
     },
     "execution_count": 3,
     "metadata": {},
     "output_type": "execute_result"
    }
   ],
   "source": [
    "x1.shape"
   ]
  },
  {
   "cell_type": "code",
   "execution_count": 4,
   "metadata": {},
   "outputs": [
    {
     "data": {
      "text/plain": [
       "(64, 64, 64)"
      ]
     },
     "execution_count": 4,
     "metadata": {},
     "output_type": "execute_result"
    }
   ],
   "source": [
    "bx1.shape"
   ]
  },
  {
   "cell_type": "code",
   "execution_count": 5,
   "metadata": {},
   "outputs": [],
   "source": [
    "# Generate cell-centre coordinate arrays, including ghost cells\n",
    "xc = np.linspace(x1[0]-0.5*dx, x1[-1]+0.5*dx, nx+1)\n",
    "yc = np.linspace(y1[0]-0.5*dy, y1[-1]+0.5*dy, ny+1)\n",
    "zc = np.linspace(z1[0]-0.5*dz, z1[-1]+0.5*dz, nz+1)"
   ]
  },
  {
   "cell_type": "code",
   "execution_count": 6,
   "metadata": {},
   "outputs": [
    {
     "data": {
      "text/plain": [
       "(65,)"
      ]
     },
     "execution_count": 6,
     "metadata": {},
     "output_type": "execute_result"
    }
   ],
   "source": [
    "xc.shape"
   ]
  },
  {
   "cell_type": "code",
   "execution_count": 7,
   "metadata": {},
   "outputs": [
    {
     "data": {
      "text/plain": [
       "(63, 63)"
      ]
     },
     "execution_count": 7,
     "metadata": {},
     "output_type": "execute_result"
    }
   ],
   "source": [
    "x2, y2 = np.meshgrid(xc[1:-1], yc[1:-1], indexing='ij')\n",
    "x2.shape"
   ]
  },
  {
   "cell_type": "code",
   "execution_count": 8,
   "metadata": {},
   "outputs": [
    {
     "data": {
      "text/plain": [
       "(63, 63)"
      ]
     },
     "execution_count": 8,
     "metadata": {},
     "output_type": "execute_result"
    }
   ],
   "source": [
    "bz = bzs(np.stack((x2, y2, x2*0 + z1[0]), axis=len(np.shape(x2))))\n",
    "bz.shape"
   ]
  },
  {
   "cell_type": "code",
   "execution_count": 9,
   "metadata": {},
   "outputs": [
    {
     "data": {
      "text/plain": [
       "np.float64(4.5413062643046355e-08)"
      ]
     },
     "execution_count": 9,
     "metadata": {},
     "output_type": "execute_result"
    }
   ],
   "source": [
    "b0 = np.mean(bz)\n",
    "b0"
   ]
  },
  {
   "cell_type": "code",
   "execution_count": 10,
   "metadata": {},
   "outputs": [
    {
     "data": {
      "text/plain": [
       "(63, 63)"
      ]
     },
     "execution_count": 10,
     "metadata": {},
     "output_type": "execute_result"
    }
   ],
   "source": [
    "u = fp.fft2(bz)\n",
    "m, n = np.mgrid[0:nx-1, 0:ny-1]\n",
    "m, n = np.cos(2*m*np.pi/(nx-1)), np.cos(2*n*np.pi/(ny-1))\n",
    "u /= 2.0*((m - 1.0)/(dx)**2 + (n - 1.0)/(dy)**2) + 1e-16\n",
    "u[0,0] = 0\n",
    "u = np.real(fp.ifft2(u))\n",
    "u.shape"
   ]
  },
  {
   "cell_type": "code",
   "execution_count": 11,
   "metadata": {},
   "outputs": [
    {
     "data": {
      "text/plain": [
       "(65, 65)"
      ]
     },
     "execution_count": 11,
     "metadata": {},
     "output_type": "execute_result"
    }
   ],
   "source": [
    "ub = np.zeros((nx+1,ny+1))\n",
    "ub[1:-1,1:-1] = u\n",
    "ub[0,:] = ub[-2,:]\n",
    "ub[-1,:] = ub[1,:]\n",
    "ub[:,0] = ub[:,-2]\n",
    "ub[:,-1] = ub[:,1]\n",
    "ub.shape"
   ]
  },
  {
   "cell_type": "code",
   "execution_count": 12,
   "metadata": {},
   "outputs": [],
   "source": [
    "a0x = -(ub[1:-1,1:] - ub[1:-1,:-1])/dy\n",
    "a0y = (ub[1:,1:-1] - ub[:-1,1:-1])/dx\n",
    "_, y2 = np.meshgrid(xc[1:-1], y1, indexing='ij')\n",
    "a0x -= 0.5*y2*b0\n",
    "x2, _ = np.meshgrid(x1, yc[1:-1], indexing='ij')\n",
    "a0y += 0.5*x2*b0"
   ]
  },
  {
   "cell_type": "code",
   "execution_count": 13,
   "metadata": {},
   "outputs": [
    {
     "name": "stdout",
     "output_type": "stream",
     "text": [
      "(65, 64, 64)\n",
      "(63, 64, 63)\n"
     ]
    }
   ],
   "source": [
    "ax = np.zeros((nx+1, ny, nz))\n",
    "print(ax.shape)\n",
    "x3, y3, z3 = np.meshgrid(xc[1:-1], y1, zc[1:-1], indexing='ij')\n",
    "by = bys(np.stack((x3, y3, z3), axis=len(np.shape(x3))))\n",
    "print(by.shape)\n",
    "ax[1:-1,:,:] = np.repeat(np.expand_dims(a0x, axis=-1), nz, axis=2)\n",
    "ax[1:-1,:,1:] += np.cumsum(by, axis=2)*dz\n",
    "ax[0,:,:] = ax[1,:,:]\n",
    "ax[-1,:,:] = ax[-2,:,:]\n",
    "axs = rgi((xc, y1, z1), ax, bounds_error=False, fill_value=0)\n",
    "del(ax)"
   ]
  },
  {
   "cell_type": "code",
   "execution_count": 16,
   "metadata": {},
   "outputs": [
    {
     "name": "stdout",
     "output_type": "stream",
     "text": [
      "(63, 64, 64)\n",
      "(64, 63, 64)\n"
     ]
    }
   ],
   "source": [
    "x3, y3, z3 = np.meshgrid(xc[1:-1], y1, z1, indexing='ij')\n",
    "print(x3.shape)\n",
    "\n",
    "x3, y3, z3 = np.meshgrid(x1, yc[1:-1], z1, indexing='ij')\n",
    "print(x3.shape)"
   ]
  },
  {
   "cell_type": "code",
   "execution_count": null,
   "metadata": {},
   "outputs": [],
   "source": []
  }
 ],
 "metadata": {
  "kernelspec": {
   "display_name": "cal",
   "language": "python",
   "name": "python3"
  },
  "language_info": {
   "codemirror_mode": {
    "name": "ipython",
    "version": 3
   },
   "file_extension": ".py",
   "mimetype": "text/x-python",
   "name": "python",
   "nbconvert_exporter": "python",
   "pygments_lexer": "ipython3",
   "version": "3.12.4"
  }
 },
 "nbformat": 4,
 "nbformat_minor": 2
}
