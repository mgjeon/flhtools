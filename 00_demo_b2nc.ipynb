{
 "cells": [
  {
   "cell_type": "markdown",
   "metadata": {},
   "source": [
    "Python script to create a netcdf file for an analytical magnetic field."
   ]
  },
  {
   "cell_type": "code",
   "execution_count": 1,
   "metadata": {},
   "outputs": [],
   "source": [
    "import numpy as np\n",
    "from scipy.io import netcdf_file"
   ]
  },
  {
   "cell_type": "markdown",
   "metadata": {},
   "source": [
    "\"Hesse\" field\n",
    "\n",
    "$$\n",
    "B_x = -2\n",
    "$$\n",
    "\n",
    "$$\n",
    "B_y = -z - \\frac{t(1-z^2)}{(1 + z^2/25)^2 (1 + x^2/25)}\n",
    "$$\n",
    "\n",
    "$$\n",
    "B_z = y\n",
    "$$"
   ]
  },
  {
   "cell_type": "code",
   "execution_count": 2,
   "metadata": {},
   "outputs": [],
   "source": [
    "def bx(x, y, z):\n",
    "    return x*0 - 2\n",
    "\n",
    "def by(x, y, z, t=2):\n",
    "    return -z - t*(1 - z**2)/(1 + z**2/25)**2/(1 + x**2/25)\n",
    "\n",
    "def bz(x, y, z):\n",
    "    return y"
   ]
  },
  {
   "cell_type": "markdown",
   "metadata": {},
   "source": [
    "Define the grid"
   ]
  },
  {
   "cell_type": "code",
   "execution_count": 3,
   "metadata": {},
   "outputs": [],
   "source": [
    "nx = 64\n",
    "ny = 64\n",
    "nz = 64\n",
    "x1 = np.linspace(-20, 20, nx)\n",
    "y1 = np.linspace(-20, 20, ny)\n",
    "z1 = np.linspace(0, 40, nz)\n",
    "z, y, x = np.meshgrid(z1, y1, x1, indexing='ij')"
   ]
  },
  {
   "cell_type": "markdown",
   "metadata": {},
   "source": [
    "Write to netcdf file"
   ]
  },
  {
   "cell_type": "code",
   "execution_count": 4,
   "metadata": {},
   "outputs": [],
   "source": [
    "fname = 'bhesse.nc'\n",
    "f = netcdf_file(fname, 'w')\n",
    "f.createDimension('xdim', nx)\n",
    "f.createDimension('ydim', ny)\n",
    "f.createDimension('zdim', nz)\n",
    "xv = f.createVariable('x', 'f', ('xdim',))\n",
    "yv = f.createVariable('y', 'f', ('ydim',))\n",
    "zv = f.createVariable('z', 'f', ('zdim',))\n",
    "xv[:], yv[:], zv[:] = x1, y1, z1\n",
    "bxv = f.createVariable('bx', 'f', ('zdim','ydim','xdim'))\n",
    "byv = f.createVariable('by', 'f', ('zdim','ydim','xdim'))\n",
    "bzv = f.createVariable('bz', 'f', ('zdim','ydim','xdim'))\n",
    "bxv[:,:,:] = bx(x, y, z)\n",
    "byv[:,:,:] = by(x, y, z)\n",
    "bzv[:,:,:] = bz(x, y, z)\n",
    "f.close()"
   ]
  },
  {
   "cell_type": "code",
   "execution_count": 5,
   "metadata": {},
   "outputs": [
    {
     "name": "stdout",
     "output_type": "stream",
     "text": [
      "Wrote file bhesse.nc\n"
     ]
    }
   ],
   "source": [
    "print('Wrote file '+fname)"
   ]
  },
  {
   "cell_type": "code",
   "execution_count": null,
   "metadata": {},
   "outputs": [],
   "source": []
  }
 ],
 "metadata": {
  "kernelspec": {
   "display_name": "python3",
   "language": "python",
   "name": "python3"
  },
  "language_info": {
   "codemirror_mode": {
    "name": "ipython",
    "version": 3
   },
   "file_extension": ".py",
   "mimetype": "text/x-python",
   "name": "python",
   "nbconvert_exporter": "python",
   "pygments_lexer": "ipython3",
   "version": "3.12.4"
  }
 },
 "nbformat": 4,
 "nbformat_minor": 2
}
