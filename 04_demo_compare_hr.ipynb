{
 "cells": [
  {
   "cell_type": "markdown",
   "metadata": {},
   "source": [
    "Read in 3d magnetic field datacube, and compute relative field-line helicity in minimal gauge.\n",
    "\n",
    "Use this to compute the total relative helicity $H_r$ by integrating over all six boundaries, and compare this to the direct volume integration of $H_r$ (in both DeVore-Coulomb and minimal gauges)."
   ]
  },
  {
   "cell_type": "code",
   "execution_count": null,
   "metadata": {},
   "outputs": [],
   "source": [
    "import numpy as np\n",
    "from flhcart import BField\n",
    "import matplotlib.pyplot as plt\n",
    "from matplotlib.colors import Normalize\n",
    "from mpl_toolkits.mplot3d import Axes3D\n",
    "import time"
   ]
  },
  {
   "cell_type": "markdown",
   "metadata": {},
   "source": [
    "Create 3d magnetic field object\n",
    "\n",
    "- creating this object automatically computes A in the DeVore-Coulomb gauge."
   ]
  },
  {
   "cell_type": "code",
   "execution_count": null,
   "metadata": {},
   "outputs": [
    {
     "name": "stdout",
     "output_type": "stream",
     "text": [
      "Computing A...\n"
     ]
    }
   ],
   "source": [
    "b = BField('bhesse.nc')"
   ]
  },
  {
   "cell_type": "markdown",
   "metadata": {},
   "source": [
    "Compute potential reference field and its vector potential"
   ]
  },
  {
   "cell_type": "code",
   "execution_count": null,
   "metadata": {},
   "outputs": [
    {
     "name": "stdout",
     "output_type": "stream",
     "text": [
      "Computing potential field...\n",
      "Computing Ap...\n"
     ]
    }
   ],
   "source": [
    "b.computePotentialField()\n",
    "b.computeADeVore(potential=True)"
   ]
  },
  {
   "cell_type": "markdown",
   "metadata": {},
   "source": [
    "Compute relative helicity directly by volume integration"
   ]
  },
  {
   "cell_type": "code",
   "execution_count": null,
   "metadata": {},
   "outputs": [
    {
     "name": "stdout",
     "output_type": "stream",
     "text": [
      "Hr from volume integration (DeVore-Coulomb upward gauge) = -2.97565e+07\n"
     ]
    }
   ],
   "source": [
    "Hr0 = b.relativeHelicity()\n",
    "print('Hr from volume integration (DeVore-Coulomb upward gauge) = %g' % Hr0)"
   ]
  },
  {
   "cell_type": "markdown",
   "metadata": {},
   "source": [
    "Change both vector potentials to minimal gauge\n",
    "\n",
    "- alternatively, you could just change $\\bf A_p$, then match $\\bf A$ to it with `b.matchPotentialGauge()`."
   ]
  },
  {
   "cell_type": "code",
   "execution_count": null,
   "metadata": {},
   "outputs": [
    {
     "name": "stdout",
     "output_type": "stream",
     "text": [
      "Matching Axn to universal gauge on each boundary...\n",
      "Matching Apxn to universal gauge on each boundary...\n"
     ]
    },
    {
     "data": {
      "text/plain": [
       "array([[[ 0.00000000e+00, -2.64648330e+01, -6.18336293e+01, ...,\n",
       "         -6.63776010e+03, -6.72424259e+03, -6.79637950e+03],\n",
       "        [ 5.94572608e+00, -2.93281403e+01, -7.04895738e+01, ...,\n",
       "         -6.62870575e+03, -6.72250227e+03, -6.80994202e+03],\n",
       "        [ 1.77453164e+01, -2.63038805e+01, -7.40657552e+01, ...,\n",
       "         -6.62669325e+03, -6.72711874e+03, -6.82508965e+03],\n",
       "        ...,\n",
       "        [-7.59867500e+02, -8.12253548e+02, -8.70840816e+02, ...,\n",
       "         -8.82674379e+03, -8.93799468e+03, -9.04430243e+03],\n",
       "        [-7.84942432e+02, -8.28521947e+02, -8.81315022e+02, ...,\n",
       "         -8.91629321e+03, -9.02172138e+03, -9.11746677e+03],\n",
       "        [-8.00000055e+02, -8.35576784e+02, -8.84220923e+02, ...,\n",
       "         -9.01537303e+03, -9.11513085e+03, -9.19637967e+03]],\n",
       "\n",
       "       [[ 9.48943147e+01,  6.92975166e+01,  3.66273619e+01, ...,\n",
       "         -6.15236092e+03, -6.21979165e+03, -6.26456111e+03],\n",
       "        [ 1.12065981e+02,  7.79262172e+01,  3.73316867e+01, ...,\n",
       "         -6.33835771e+03, -6.40894841e+03, -6.31935314e+03],\n",
       "        [ 1.28046043e+02,  8.61869139e+01,  3.88077571e+01, ...,\n",
       "         -6.37037623e+03, -6.44555136e+03, -6.35762196e+03],\n",
       "        ...,\n",
       "        [-6.43782769e+02, -7.19518593e+02, -7.82500118e+02, ...,\n",
       "         -8.63838115e+03, -8.72069095e+03, -8.58261875e+03],\n",
       "        [-6.74679976e+02, -7.42045115e+02, -7.98380109e+02, ...,\n",
       "         -8.68752114e+03, -8.76786763e+03, -8.63102009e+03],\n",
       "        [-7.05105740e+02, -7.43956636e+02, -7.91543936e+02, ...,\n",
       "         -8.52418985e+03, -8.60653772e+03, -8.66456128e+03]],\n",
       "\n",
       "       [[ 1.98213762e+02,  1.72135671e+02,  1.40839956e+02, ...,\n",
       "         -5.68204401e+03, -5.73838585e+03, -5.77602327e+03],\n",
       "        [ 2.19377838e+02,  1.88347938e+02,  1.49294087e+02, ...,\n",
       "         -5.88912427e+03, -5.94504921e+03, -5.84528746e+03],\n",
       "        [ 2.38126275e+02,  2.00250504e+02,  1.54682553e+02, ...,\n",
       "         -5.94203855e+03, -6.00110672e+03, -5.89854710e+03],\n",
       "        ...,\n",
       "        [-5.29612470e+02, -6.05867141e+02, -6.69938666e+02, ...,\n",
       "         -8.21918608e+03, -8.28430187e+03, -8.12763396e+03],\n",
       "        [-5.64888965e+02, -6.33186354e+02, -6.90506583e+02, ...,\n",
       "         -8.24280214e+03, -8.30839015e+03, -8.15943357e+03],\n",
       "        [-6.01786293e+02, -6.43597635e+02, -6.91421408e+02, ...,\n",
       "         -8.04978286e+03, -8.12265276e+03, -8.17602344e+03]],\n",
       "\n",
       "       ...,\n",
       "\n",
       "       [[ 7.81979810e+03,  7.86160944e+03,  7.90943321e+03, ...,\n",
       "          1.52677947e+04,  1.53406646e+04,  1.53940352e+04],\n",
       "        [ 7.78290077e+03,  8.05300343e+03,  8.13069182e+03, ...,\n",
       "          1.56829874e+04,  1.57282072e+04,  1.53774454e+04],\n",
       "        [ 7.74762428e+03,  8.04605238e+03,  8.14014446e+03, ...,\n",
       "          1.56893919e+04,  1.57244871e+04,  1.53456458e+04],\n",
       "        ...,\n",
       "        [ 6.97988553e+03,  7.23993473e+03,  7.31552324e+03, ...,\n",
       "          1.34122443e+04,  1.34412920e+04,  1.31165589e+04],\n",
       "        [ 6.99863397e+03,  7.23146914e+03,  7.29089115e+03, ...,\n",
       "          1.33293095e+04,  1.33648663e+04,  1.30632993e+04],\n",
       "        [ 7.01979804e+03,  7.04587613e+03,  7.07717185e+03, ...,\n",
       "          1.29000558e+04,  1.29563977e+04,  1.29940351e+04]],\n",
       "\n",
       "       [[ 7.92311755e+03,  7.96196844e+03,  8.00955574e+03, ...,\n",
       "          1.57422017e+04,  1.58245495e+04,  1.58825731e+04],\n",
       "        [ 7.89269178e+03,  8.14772889e+03,  8.21819718e+03, ...,\n",
       "          1.61073382e+04,  1.61735514e+04,  1.58490319e+04],\n",
       "        [ 7.86179457e+03,  8.13933567e+03,  8.22268535e+03, ...,\n",
       "          1.60785664e+04,  1.61405080e+04,  1.58006306e+04],\n",
       "        ...,\n",
       "        [ 7.08996576e+03,  7.33363016e+03,  7.40137748e+03, ...,\n",
       "          1.38105615e+04,  1.38653684e+04,  1.35756338e+04],\n",
       "        [ 7.10594583e+03,  7.32775756e+03,  7.38248539e+03, ...,\n",
       "          1.37581748e+04,  1.38146322e+04,  1.35373649e+04],\n",
       "        [ 7.12311749e+03,  7.14871429e+03,  7.18138444e+03, ...,\n",
       "          1.33703727e+04,  1.34378035e+04,  1.34825729e+04]],\n",
       "\n",
       "       [[ 8.01801186e+03,  8.05358859e+03,  8.10223273e+03, ...,\n",
       "          1.62333848e+04,  1.63331427e+04,  1.64143915e+04],\n",
       "        [ 8.00295424e+03,  8.04653375e+03,  8.09932683e+03, ...,\n",
       "          1.61343050e+04,  1.62397332e+04,  1.63354786e+04],\n",
       "        [ 7.97787931e+03,  8.03026535e+03,  8.08885262e+03, ...,\n",
       "          1.60447556e+04,  1.61560065e+04,  1.62623142e+04],\n",
       "        ...,\n",
       "        [ 7.20026649e+03,  7.24431569e+03,  7.29207756e+03, ...,\n",
       "          1.38447051e+04,  1.39451305e+04,  1.40431015e+04],\n",
       "        [ 7.21206608e+03,  7.24733995e+03,  7.28850138e+03, ...,\n",
       "          1.38467176e+04,  1.39405141e+04,  1.40279538e+04],\n",
       "        [ 7.21801181e+03,  7.24447664e+03,  7.27984544e+03, ...,\n",
       "          1.38557719e+04,  1.39422544e+04,  1.40143913e+04]]])"
      ]
     },
     "execution_count": null,
     "metadata": {},
     "output_type": "execute_result"
    }
   ],
   "source": [
    "b.matchUniversalGauge()\n",
    "b.matchUniversalGauge(potential=True)"
   ]
  },
  {
   "cell_type": "markdown",
   "metadata": {},
   "source": [
    "Compute relative helicity directly by volume integration"
   ]
  },
  {
   "cell_type": "code",
   "execution_count": null,
   "metadata": {},
   "outputs": [
    {
     "name": "stdout",
     "output_type": "stream",
     "text": [
      "Hr from volume integration (minimal gauge) = -2.97565e+07\n"
     ]
    }
   ],
   "source": [
    "Hr = b.relativeHelicity()\n",
    "print('Hr from volume integration (minimal gauge) = %g' % Hr)"
   ]
  },
  {
   "cell_type": "markdown",
   "metadata": {},
   "source": [
    "Compute relative helicity from relative field-line helicity"
   ]
  },
  {
   "cell_type": "markdown",
   "metadata": {},
   "source": [
    "map of FLH on $z=\\text{const.}$"
   ]
  },
  {
   "cell_type": "code",
   "execution_count": null,
   "metadata": {},
   "outputs": [],
   "source": [
    "nx = b.nx\n",
    "ny = b.ny\n",
    "x1 = np.linspace(b.x1[0], b.x1[-1], nx)\n",
    "y1 = np.linspace(b.y1[0], b.y1[-1], ny)\n",
    "x1s, y1s = np.meshgrid(x1,y1, indexing='ij')"
   ]
  },
  {
   "cell_type": "markdown",
   "metadata": {},
   "source": [
    "map of FLH on lower boundary $z = 0$"
   ]
  },
  {
   "cell_type": "code",
   "execution_count": null,
   "metadata": {},
   "outputs": [
    {
     "name": "stdout",
     "output_type": "stream",
     "text": [
      "z = [[-0. -0. -0. ... -0. -0. -0.]\n",
      " [-0. -0. -0. ... -0. -0. -0.]\n",
      " [-0. -0. -0. ... -0. -0. -0.]\n",
      " ...\n",
      " [ 0.  0.  0. ...  0.  0.  0.]\n",
      " [ 0.  0.  0. ...  0.  0.  0.]\n",
      " [ 0.  0.  0. ...  0.  0.  0.]]\n",
      "Tracing 4096 field lines...\n",
      "Tracing 4096 field lines...\n"
     ]
    }
   ],
   "source": [
    "z1s = x1s*0\n",
    "print(f\"z = {z1s}\")\n",
    "x0 = np.stack((x1s.flatten(), y1s.flatten(), z1s.flatten()), axis=1)\n",
    "bz0 = np.abs(b.bz(x1s, y1s, z1s))\n",
    "flh_z0 = b.flHelicity(x0) - b.flHelicity(x0, potential=True)\n",
    "flh_z0 = flh_z0.reshape(nx, ny)"
   ]
  },
  {
   "cell_type": "markdown",
   "metadata": {},
   "source": [
    "map of FLH on top boundary $z = 40$"
   ]
  },
  {
   "cell_type": "code",
   "execution_count": null,
   "metadata": {},
   "outputs": [
    {
     "name": "stdout",
     "output_type": "stream",
     "text": [
      "z = [[40. 40. 40. ... 40. 40. 40.]\n",
      " [40. 40. 40. ... 40. 40. 40.]\n",
      " [40. 40. 40. ... 40. 40. 40.]\n",
      " ...\n",
      " [40. 40. 40. ... 40. 40. 40.]\n",
      " [40. 40. 40. ... 40. 40. 40.]\n",
      " [40. 40. 40. ... 40. 40. 40.]]\n",
      "Tracing 4096 field lines...\n",
      "Tracing 4096 field lines...\n"
     ]
    }
   ],
   "source": [
    "z1s = x1s*0 + b.z1[-1]\n",
    "print(f\"z = {z1s}\")\n",
    "x0 = np.stack((x1s.flatten(), y1s.flatten(), z1s.flatten()), axis=1)\n",
    "bz1 = np.abs(b.bz(x1s, y1s, z1s)) \n",
    "flh_z1 = b.flHelicity(x0) - b.flHelicity(x0, potential=True)\n",
    "flh_z1 = flh_z1.reshape(nx, ny)"
   ]
  },
  {
   "cell_type": "markdown",
   "metadata": {},
   "source": [
    "map of FLH on $x=\\text{const.}$"
   ]
  },
  {
   "cell_type": "code",
   "execution_count": null,
   "metadata": {},
   "outputs": [],
   "source": [
    "ny = b.ny\n",
    "nz = b.nz\n",
    "y1 = np.linspace(b.y1[0], b.y1[-1], ny)\n",
    "z1 = np.linspace(b.z1[0], b.z1[-1], nz)\n",
    "y1s, z1s = np.meshgrid(y1,z1, indexing='ij')"
   ]
  },
  {
   "cell_type": "markdown",
   "metadata": {},
   "source": [
    "map of FLH on right boundary $x = 20$"
   ]
  },
  {
   "cell_type": "code",
   "execution_count": null,
   "metadata": {},
   "outputs": [
    {
     "name": "stdout",
     "output_type": "stream",
     "text": [
      "x = [[20. 20. 20. ... 20. 20. 20.]\n",
      " [20. 20. 20. ... 20. 20. 20.]\n",
      " [20. 20. 20. ... 20. 20. 20.]\n",
      " ...\n",
      " [20. 20. 20. ... 20. 20. 20.]\n",
      " [20. 20. 20. ... 20. 20. 20.]\n",
      " [20. 20. 20. ... 20. 20. 20.]]\n",
      "Tracing 4096 field lines...\n",
      "Tracing 4096 field lines...\n"
     ]
    }
   ],
   "source": [
    "x1s = y1s*0 + b.x1[-1]\n",
    "print(f\"x = {x1s}\")\n",
    "x0 = np.stack((x1s.flatten(), y1s.flatten(), z1s.flatten()), axis=1)\n",
    "bx1 = np.abs(b.bx(x1s, y1s, z1s)) \n",
    "flh_x1 = b.flHelicity(x0) - b.flHelicity(x0, potential=True)\n",
    "flh_x1 = flh_x1.reshape(ny, nz)"
   ]
  },
  {
   "cell_type": "markdown",
   "metadata": {},
   "source": [
    "map of FLH on left boundary $x = -20$"
   ]
  },
  {
   "cell_type": "code",
   "execution_count": null,
   "metadata": {},
   "outputs": [
    {
     "name": "stdout",
     "output_type": "stream",
     "text": [
      "x = [[-20. -20. -20. ... -20. -20. -20.]\n",
      " [-20. -20. -20. ... -20. -20. -20.]\n",
      " [-20. -20. -20. ... -20. -20. -20.]\n",
      " ...\n",
      " [-20. -20. -20. ... -20. -20. -20.]\n",
      " [-20. -20. -20. ... -20. -20. -20.]\n",
      " [-20. -20. -20. ... -20. -20. -20.]]\n",
      "Tracing 4096 field lines...\n",
      "Tracing 4096 field lines...\n"
     ]
    }
   ],
   "source": [
    "x1s = y1s*0 + b.x1[0]\n",
    "print(f\"x = {x1s}\")\n",
    "x0 = np.stack((x1s.flatten(), y1s.flatten(), z1s.flatten()), axis=1)\n",
    "bx0 = np.abs(b.bx(x1s, y1s, z1s))\n",
    "flh_x0 = b.flHelicity(x0) - b.flHelicity(x0, potential=True)\n",
    "flh_x0 = flh_x0.reshape(ny, nz)   "
   ]
  },
  {
   "cell_type": "markdown",
   "metadata": {},
   "source": [
    "map of FLH on $y=\\text{const.}$"
   ]
  },
  {
   "cell_type": "code",
   "execution_count": null,
   "metadata": {},
   "outputs": [],
   "source": [
    "nx = b.nx\n",
    "nz = b.nz\n",
    "x1 = np.linspace(b.x1[0], b.x1[-1], nx)\n",
    "z1 = np.linspace(b.z1[0], b.z1[-1], nz)\n",
    "x1s, z1s = np.meshgrid(x1,z1, indexing='ij')"
   ]
  },
  {
   "cell_type": "markdown",
   "metadata": {},
   "source": [
    "map of FLH on top boundary $y = 20$"
   ]
  },
  {
   "cell_type": "code",
   "execution_count": null,
   "metadata": {},
   "outputs": [
    {
     "name": "stdout",
     "output_type": "stream",
     "text": [
      "y = [[20. 20. 20. ... 20. 20. 20.]\n",
      " [20. 20. 20. ... 20. 20. 20.]\n",
      " [20. 20. 20. ... 20. 20. 20.]\n",
      " ...\n",
      " [20. 20. 20. ... 20. 20. 20.]\n",
      " [20. 20. 20. ... 20. 20. 20.]\n",
      " [20. 20. 20. ... 20. 20. 20.]]\n",
      "Tracing 4096 field lines...\n",
      "Tracing 4096 field lines...\n"
     ]
    }
   ],
   "source": [
    "y1s = x1s*0 + b.y1[-1]\n",
    "print(f\"y = {y1s}\")\n",
    "x0 = np.stack((x1s.flatten(), y1s.flatten(), z1s.flatten()), axis=1)\n",
    "by1 = np.abs(b.by(x1s, y1s, z1s))\n",
    "flh_y1 = b.flHelicity(x0) - b.flHelicity(x0, potential=True)\n",
    "flh_y1 = flh_y1.reshape(nx, nz)"
   ]
  },
  {
   "cell_type": "markdown",
   "metadata": {},
   "source": [
    "map of FLH on bottom boundary $y = -20$"
   ]
  },
  {
   "cell_type": "code",
   "execution_count": null,
   "metadata": {},
   "outputs": [
    {
     "name": "stdout",
     "output_type": "stream",
     "text": [
      "y = [[-20. -20. -20. ... -20. -20. -20.]\n",
      " [-20. -20. -20. ... -20. -20. -20.]\n",
      " [-20. -20. -20. ... -20. -20. -20.]\n",
      " ...\n",
      " [-20. -20. -20. ... -20. -20. -20.]\n",
      " [-20. -20. -20. ... -20. -20. -20.]\n",
      " [-20. -20. -20. ... -20. -20. -20.]]\n",
      "Tracing 4096 field lines...\n",
      "Tracing 4096 field lines...\n"
     ]
    }
   ],
   "source": [
    "y1s = x1s*0 + b.y1[0]\n",
    "print(f\"y = {y1s}\")\n",
    "x0 = np.stack((x1s.flatten(), y1s.flatten(), z1s.flatten()), axis=1)\n",
    "by0 = np.abs(b.by(x1s, y1s, z1s))\n",
    "flh_y0 = b.flHelicity(x0) - b.flHelicity(x0, potential=True)\n",
    "flh_y0 = flh_y0.reshape(nx, nz)"
   ]
  },
  {
   "cell_type": "markdown",
   "metadata": {},
   "source": [
    "estimate total helicity by adding FLH over all field lines"
   ]
  },
  {
   "cell_type": "code",
   "execution_count": null,
   "metadata": {},
   "outputs": [
    {
     "name": "stdout",
     "output_type": "stream",
     "text": [
      "(64, 64)\n",
      "[[ -755.12568015  -807.60644694  -844.75211838 ...     0.\n",
      "      0.             0.        ]\n",
      " [ -763.52417969  -812.53440398  -851.59822427 ...  -296.03467739\n",
      "   -304.29691309  -301.91460474]\n",
      " [ -765.82593531  -817.34158095  -857.71217534 ...  -984.07626324\n",
      "  -1012.422859   -1081.50355487]\n",
      " ...\n",
      " [-1080.95335464 -1017.99287947  -986.48613573 ...  -853.42344323\n",
      "   -810.33036414  -768.56966988]\n",
      " [ -302.36650927  -305.8793551   -297.77567732 ...  -844.12664182\n",
      "   -802.57126528  -765.89593099]\n",
      " [    0.             0.             0.         ...  -840.69994313\n",
      "   -797.61712235  -755.86858931]]\n"
     ]
    }
   ],
   "source": [
    "print(flh_z0.shape)\n",
    "print(flh_z0)"
   ]
  },
  {
   "cell_type": "code",
   "execution_count": null,
   "metadata": {},
   "outputs": [
    {
     "name": "stdout",
     "output_type": "stream",
     "text": [
      "(64, 64)\n",
      "[[18.97594531 18.3650794  17.73015876 ... 19.7301587  20.36507933\n",
      "  19.97594531]\n",
      " [19.47442682 19.36507937 18.73015873 ... 18.73015873 19.36507937\n",
      "  19.47442682]\n",
      " [19.47124435 19.36507937 18.73015873 ... 18.73015873 19.36507937\n",
      "  19.47124435]\n",
      " ...\n",
      " [19.47124435 19.36507937 18.73015873 ... 18.73015873 19.36507937\n",
      "  19.47124435]\n",
      " [19.47442682 19.36507937 18.73015873 ... 18.73015873 19.36507937\n",
      "  19.47442682]\n",
      " [19.97594531 20.36507933 19.7301587  ... 17.73015876 18.3650794\n",
      "  18.97594531]]\n"
     ]
    }
   ],
   "source": [
    "print(bz0.shape)\n",
    "print(bz0)"
   ]
  },
  {
   "cell_type": "markdown",
   "metadata": {},
   "source": [
    "Add up all field lines and divide by two (each should be counted twice)"
   ]
  },
  {
   "cell_type": "markdown",
   "metadata": {},
   "source": [
    "$$\n",
    "\\frac{1}{2}\\oint_{\\partial V}\\mathcal{A}_{\\rm R}|B_n|\\,\\mathrm{d}^2x = H_{\\rm R},\n",
    "$$"
   ]
  },
  {
   "cell_type": "markdown",
   "metadata": {},
   "source": [
    "$$\n",
    "\\int \\int \\mathrm{d}x \\mathrm{d}y\n",
    "$$"
   ]
  },
  {
   "cell_type": "code",
   "execution_count": null,
   "metadata": {},
   "outputs": [],
   "source": [
    "hf = np.trapz(np.trapz(flh_z0*bz0, x=x1, axis=0), x=y1, axis=0)\n",
    "hf += np.trapz(np.trapz(flh_z1*bz1, x=x1, axis=0), x=y1, axis=0)"
   ]
  },
  {
   "cell_type": "markdown",
   "metadata": {},
   "source": [
    "$$\n",
    "\\int \\int \\mathrm{d}y \\mathrm{d}z\n",
    "$$"
   ]
  },
  {
   "cell_type": "code",
   "execution_count": null,
   "metadata": {},
   "outputs": [],
   "source": [
    "hf += np.trapz(np.trapz(flh_x0*bx0, x=y1, axis=0), x=z1, axis=0)  \n",
    "hf += np.trapz(np.trapz(flh_x1*bx1, x=y1, axis=0), x=z1, axis=0)"
   ]
  },
  {
   "cell_type": "markdown",
   "metadata": {},
   "source": [
    "$$\n",
    "\\int \\int \\mathrm{d}x \\mathrm{d}z\n",
    "$$"
   ]
  },
  {
   "cell_type": "code",
   "execution_count": null,
   "metadata": {},
   "outputs": [],
   "source": [
    "hf += np.trapz(np.trapz(flh_y0*by0, x=x1, axis=0), x=z1, axis=0)   \n",
    "hf += np.trapz(np.trapz(flh_y1*by1, x=x1, axis=0), x=z1, axis=0)"
   ]
  },
  {
   "cell_type": "code",
   "execution_count": null,
   "metadata": {},
   "outputs": [],
   "source": [
    "hf /= 2"
   ]
  },
  {
   "cell_type": "code",
   "execution_count": null,
   "metadata": {},
   "outputs": [
    {
     "name": "stdout",
     "output_type": "stream",
     "text": [
      "Hr from relative FLH (minimal gauge) = -2.95275e+07\n"
     ]
    }
   ],
   "source": [
    "print('Hr from relative FLH (minimal gauge) = %g' % hf)"
   ]
  },
  {
   "cell_type": "markdown",
   "metadata": {},
   "source": [
    "Compare"
   ]
  },
  {
   "cell_type": "code",
   "execution_count": null,
   "metadata": {},
   "outputs": [
    {
     "name": "stdout",
     "output_type": "stream",
     "text": [
      "Hr from volume integration (DeVore-Coulomb upward gauge) = -2.97565e+07\n",
      "Hr from volume integration (minimal gauge) = -2.97565e+07\n",
      "Hr from relative FLH (minimal gauge) = -2.95275e+07\n"
     ]
    }
   ],
   "source": [
    "print('Hr from volume integration (DeVore-Coulomb upward gauge) = %g' % Hr0)\n",
    "print('Hr from volume integration (minimal gauge) = %g' % Hr)\n",
    "print('Hr from relative FLH (minimal gauge) = %g' % hf)"
   ]
  },
  {
   "cell_type": "code",
   "execution_count": null,
   "metadata": {},
   "outputs": [],
   "source": []
  }
 ],
 "metadata": {
  "kernelspec": {
   "display_name": "python3",
   "language": "python",
   "name": "python3"
  }
 },
 "nbformat": 4,
 "nbformat_minor": 2
}
